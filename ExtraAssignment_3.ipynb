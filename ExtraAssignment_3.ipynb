{
 "cells": [
  {
   "cell_type": "code",
   "execution_count": 2,
   "id": "147bcbad",
   "metadata": {},
   "outputs": [],
   "source": [
    "#Extra Assignment-Level-3-Python\n"
   ]
  },
  {
   "cell_type": "code",
   "execution_count": 6,
   "id": "1a513b06",
   "metadata": {},
   "outputs": [
    {
     "name": "stdout",
     "output_type": "stream",
     "text": [
      "Value: 10\n",
      "Correct\n"
     ]
    }
   ],
   "source": [
    "# print 'CORRECT' if i == 10\n",
    "i=int(input(\"Value: \"))\n",
    "if (i==10):\n",
    "    print(\"Correct\")\n",
    "else:\n",
    "    print(\"wrong\")\n",
    "    "
   ]
  },
  {
   "cell_type": "code",
   "execution_count": 7,
   "id": "6d451908",
   "metadata": {},
   "outputs": [],
   "source": [
    "# Check the password, using if and else"
   ]
  },
  {
   "cell_type": "code",
   "execution_count": 13,
   "id": "494f1e16",
   "metadata": {},
   "outputs": [
    {
     "name": "stdout",
     "output_type": "stream",
     "text": [
      "Enter your Password: HOPE@123\n",
      "your password is correct\n"
     ]
    }
   ],
   "source": [
    "password=input(\"Enter your Password: \")\n",
    "if(password==\"HOPE@123\"):\n",
    "    print(\"your password is correct\")\n"
   ]
  },
  {
   "cell_type": "code",
   "execution_count": 15,
   "id": "692375bc",
   "metadata": {},
   "outputs": [
    {
     "name": "stdout",
     "output_type": "stream",
     "text": [
      "Enter age: 20\n",
      "adult\n"
     ]
    }
   ],
   "source": [
    "# Catagory the people by their age like children, adult, citizen, senior citizen...\n",
    "\n",
    "i=int(input(\"Enter age: \"))\n",
    "if (i<18):\n",
    "    print(\"child\")\n",
    "elif (i<35):\n",
    "    print(\"adult\")\n",
    "elif (i<59):\n",
    "    print(\"citizen\")\n",
    "else:\n",
    "    print(\"S.Citizen\")\n",
    "    \n",
    "    \n",
    "    "
   ]
  },
  {
   "cell_type": "code",
   "execution_count": 16,
   "id": "9a4874e9",
   "metadata": {},
   "outputs": [],
   "source": [
    "# Find whether given number is positive or negative"
   ]
  },
  {
   "cell_type": "code",
   "execution_count": 17,
   "id": "32c72c54",
   "metadata": {},
   "outputs": [
    {
     "name": "stdout",
     "output_type": "stream",
     "text": [
      "Enter any number: 1\n",
      "Positive number\n"
     ]
    }
   ],
   "source": [
    "i=int(input(\"Enter any number: \"))\n",
    "if (i>0):\n",
    "    print(\"Positive number\")\n",
    "elif (i<0):\n",
    "    print(\"Negative number\")\n",
    "else:\n",
    "    print(\"It is Zero\")\n",
    "    "
   ]
  },
  {
   "cell_type": "code",
   "execution_count": 18,
   "id": "1f185b4b",
   "metadata": {},
   "outputs": [],
   "source": [
    " # Check whether the given number is divisible by 5\n",
    "    "
   ]
  },
  {
   "cell_type": "code",
   "execution_count": 21,
   "id": "830838c9",
   "metadata": {},
   "outputs": [
    {
     "name": "stdout",
     "output_type": "stream",
     "text": [
      "Enter the number to check22\n",
      "No, it's not divisible by 5.\n"
     ]
    }
   ],
   "source": [
    "number=int(input(\"Enter the number to check\"))\n",
    "if (number % 5 == 0):\n",
    "        print(\"Yes, it's divisible by 5!\")\n",
    "else:\n",
    "        print(\"No, it's not divisible by 5.\")"
   ]
  },
  {
   "cell_type": "code",
   "execution_count": null,
   "id": "461dafde",
   "metadata": {},
   "outputs": [],
   "source": []
  }
 ],
 "metadata": {
  "kernelspec": {
   "display_name": "Python 3 (ipykernel)",
   "language": "python",
   "name": "python3"
  },
  "language_info": {
   "codemirror_mode": {
    "name": "ipython",
    "version": 3
   },
   "file_extension": ".py",
   "mimetype": "text/x-python",
   "name": "python",
   "nbconvert_exporter": "python",
   "pygments_lexer": "ipython3",
   "version": "3.11.5"
  }
 },
 "nbformat": 4,
 "nbformat_minor": 5
}
