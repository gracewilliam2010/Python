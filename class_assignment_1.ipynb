{
 "cells": [
  {
   "cell_type": "code",
   "execution_count": 1,
   "id": "a1460d88",
   "metadata": {},
   "outputs": [],
   "source": [
    "# Create a class and function, and list out the items in the list"
   ]
  },
  {
   "cell_type": "code",
   "execution_count": 21,
   "id": "7216885c",
   "metadata": {},
   "outputs": [],
   "source": [
    "class SubfieldsInAI():\n",
    "    def Subfields():\n",
    "        print(\"Sub-fields in AI are:\")\n",
    "        list=['Machine Learning', 'Neural Networks', 'Vision', 'Robotics', 'Speech Processing', 'Natural Language Processing']\n",
    "        for i in list:\n",
    "            print(i)\n",
    "     \n"
   ]
  },
  {
   "cell_type": "code",
   "execution_count": 22,
   "id": "b2dc3237",
   "metadata": {},
   "outputs": [
    {
     "name": "stdout",
     "output_type": "stream",
     "text": [
      "Sub-fields in AI are:\n",
      "Machine Learning\n",
      "Neural Networks\n",
      "Vision\n",
      "Robotics\n",
      "Speech Processing\n",
      "Natural Language Processing\n"
     ]
    }
   ],
   "source": [
    "SubfieldsInAI.Subfields()"
   ]
  },
  {
   "cell_type": "code",
   "execution_count": 23,
   "id": "55171c7a",
   "metadata": {},
   "outputs": [],
   "source": [
    " # Create a function that checks whether the given number is Odd or Even"
   ]
  },
  {
   "cell_type": "code",
   "execution_count": 43,
   "id": "a6402006",
   "metadata": {},
   "outputs": [],
   "source": [
    "class OddorEven():\n",
    "    def OddorEven():\n",
    "        num = int(input(\"Enter a number: \"))\n",
    "        if (num % 2) == 0:\n",
    "            print(num,\"is Even number\")\n",
    "        else:\n",
    "            print(num,\"is ODD number\")\n",
    "        OddorEven()"
   ]
  },
  {
   "cell_type": "code",
   "execution_count": 44,
   "id": "4f3dfd14",
   "metadata": {},
   "outputs": [
    {
     "name": "stdout",
     "output_type": "stream",
     "text": [
      "Enter a number: 52452\n",
      "52452 is Even number\n"
     ]
    }
   ],
   "source": [
    "OddorEven.OddorEven()"
   ]
  },
  {
   "cell_type": "code",
   "execution_count": 46,
   "id": "269b16ca",
   "metadata": {},
   "outputs": [],
   "source": [
    "# Create a function that tells elegibility of marriage for male and female according to their age limit like 21 for male and 18 for female"
   ]
  },
  {
   "cell_type": "code",
   "execution_count": 48,
   "id": "413dd569",
   "metadata": {},
   "outputs": [],
   "source": [
    "class ElegiblityForMarriage():\n",
    "    def elegibility():\n",
    "        num = int(input(\"Enter a age: \"))\n",
    "        gender = input(\"Enter a Gender: \")\n",
    "        if (num >= 21 and gender=='male'):\n",
    "            print(\"Eligible for marriage\")\n",
    "        elif (num >= 18 and gender=='female'):\n",
    "            print(\"Eligible for marriage\")\n",
    "        else:  \n",
    "            print(\"not eligible\")\n"
   ]
  },
  {
   "cell_type": "code",
   "execution_count": 49,
   "id": "dcff22fd",
   "metadata": {},
   "outputs": [
    {
     "name": "stdout",
     "output_type": "stream",
     "text": [
      "Enter a age: 20\n",
      "Enter a Gender: male\n",
      "not eligible\n"
     ]
    }
   ],
   "source": [
    "ElegiblityForMarriage.elegibility()"
   ]
  },
  {
   "cell_type": "code",
   "execution_count": 50,
   "id": "d129138c",
   "metadata": {},
   "outputs": [],
   "source": [
    "# calculate the percentage of your 10th mark"
   ]
  },
  {
   "cell_type": "code",
   "execution_count": 51,
   "id": "e8cf69f7",
   "metadata": {},
   "outputs": [],
   "source": [
    "class FindPercent():\n",
    "    def percentage():\n",
    "        subject1=int(input(\"subject1=\"))\n",
    "        subject2=int(input(\"subject2=\"))\n",
    "        subject3=int(input(\"subject3=\"))\n",
    "        subject4=int(input(\"subject4=\"))\n",
    "        subject5=int(input(\"subject5=\"))\n",
    "    \n",
    "        Total=int(subject1+subject2+subject3+subject4+subject5)\n",
    "        Percentage = (Total / 500) * 100\n",
    "        print(\"Total\",Total)\n",
    "        print(\"Percentage:\",Percentage)"
   ]
  },
  {
   "cell_type": "code",
   "execution_count": 52,
   "id": "65fea813",
   "metadata": {},
   "outputs": [
    {
     "name": "stdout",
     "output_type": "stream",
     "text": [
      "subject1=98\n",
      "subject2=87\n",
      "subject3=95\n",
      "subject4=95\n",
      "subject5=93\n",
      "Total 468\n",
      "Percentage: 93.60000000000001\n"
     ]
    }
   ],
   "source": [
    "FindPercent.percentage()"
   ]
  },
  {
   "cell_type": "code",
   "execution_count": 53,
   "id": "a6463c46",
   "metadata": {},
   "outputs": [],
   "source": [
    "#print area and perimeter of triangle using class and functions"
   ]
  },
  {
   "cell_type": "code",
   "execution_count": 54,
   "id": "71765343",
   "metadata": {},
   "outputs": [],
   "source": [
    "class triangle():\n",
    "    def triangle():\n",
    "        Height=int(input(\"Height=\"))\n",
    "        Breadth=int(input(\"Breadth=\"))\n",
    "        print(\"Area formula: (Height*Breadth)/2\")\n",
    "        areat =( Height * Breadth ) / 2\n",
    "        print(\"Area of Triangle:\", areat)\n",
    "        Height1=int(input(\"Height1=\"))\n",
    "        Height2=int(input(\"Height2=\"))\n",
    "        Breadth=int(input(\"Breadth=\"))\n",
    "        Perimeter=Height1+Height2+Breadth\n",
    "        print(\"Perimeter of Triangle:\",Perimeter)"
   ]
  },
  {
   "cell_type": "code",
   "execution_count": 55,
   "id": "0add6cf3",
   "metadata": {},
   "outputs": [
    {
     "name": "stdout",
     "output_type": "stream",
     "text": [
      "Height=32\n",
      "Breadth=34\n",
      "Area formula: (Height*Breadth)/2\n",
      "Area of Triangle: 544.0\n",
      "Height1=2\n",
      "Height2=4\n",
      "Breadth=4\n",
      "Perimeter of Triangle: 10\n"
     ]
    }
   ],
   "source": [
    "triangle.triangle()"
   ]
  },
  {
   "cell_type": "code",
   "execution_count": null,
   "id": "63bd4a42",
   "metadata": {},
   "outputs": [],
   "source": []
  }
 ],
 "metadata": {
  "kernelspec": {
   "display_name": "Python 3 (ipykernel)",
   "language": "python",
   "name": "python3"
  },
  "language_info": {
   "codemirror_mode": {
    "name": "ipython",
    "version": 3
   },
   "file_extension": ".py",
   "mimetype": "text/x-python",
   "name": "python",
   "nbconvert_exporter": "python",
   "pygments_lexer": "ipython3",
   "version": "3.11.5"
  }
 },
 "nbformat": 4,
 "nbformat_minor": 5
}
