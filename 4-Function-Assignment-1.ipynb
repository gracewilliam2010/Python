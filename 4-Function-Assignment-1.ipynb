{
 "cells": [
  {
   "cell_type": "code",
   "execution_count": 58,
   "id": "5a95e36c",
   "metadata": {},
   "outputs": [],
   "source": [
    "# Create function, and list out the items in the"
   ]
  },
  {
   "cell_type": "code",
   "execution_count": 59,
   "id": "814d5cad",
   "metadata": {},
   "outputs": [
    {
     "name": "stdout",
     "output_type": "stream",
     "text": [
      "Sub-fields in AI are:\n",
      "Machine Learning\n",
      "Neural Networks\n",
      "Vision\n",
      "Robotics\n",
      "Speech Processing\n",
      "Natural Language Processing\n"
     ]
    }
   ],
   "source": [
    " \n",
    "def Subfields():\n",
    "    print(\"Sub-fields in AI are:\")\n",
    "    list=['Machine Learning', 'Neural Networks', 'Vision', 'Robotics', 'Speech Processing', 'Natural Language Processing']\n",
    "    for i in list:\n",
    "        print(i)\n",
    "Subfields()"
   ]
  },
  {
   "cell_type": "code",
   "execution_count": null,
   "id": "b36cb998",
   "metadata": {},
   "outputs": [],
   "source": [
    "# Create a function that checks whether the given number is Odd or Even"
   ]
  },
  {
   "cell_type": "code",
   "execution_count": 76,
   "id": "6b9ba4bb",
   "metadata": {
    "scrolled": true
   },
   "outputs": [
    {
     "name": "stdout",
     "output_type": "stream",
     "text": [
      "Enter a number: 52452\n",
      "52452 is Even number\n"
     ]
    }
   ],
   "source": [
    "def OddorEven():\n",
    "    num = int(input(\"Enter a number: \"))\n",
    "    if (num % 2) == 0:\n",
    "        print(num,\"is Even number\")\n",
    "    else:\n",
    "        print(num,\"is ODD number\")\n",
    "OddorEven()"
   ]
  },
  {
   "cell_type": "code",
   "execution_count": 78,
   "id": "338bfe2b",
   "metadata": {},
   "outputs": [],
   "source": [
    "\n",
    "# Create a function that tells elegibility of marriage for male and female according to their age limit like 21 for male and 18 for female\n"
   ]
  },
  {
   "cell_type": "code",
   "execution_count": 85,
   "id": "6b8618b1",
   "metadata": {},
   "outputs": [
    {
     "name": "stdout",
     "output_type": "stream",
     "text": [
      "Enter a age: 20\n",
      "Enter a Gender: male\n",
      "not eligible\n"
     ]
    }
   ],
   "source": [
    "def elegibility():\n",
    "    num = int(input(\"Enter a age: \"))\n",
    "    gender = input(\"Enter a Gender: \")\n",
    "    if (num >= 21 and gender=='male'):\n",
    "        print(\"Eligible for marriage\")\n",
    "    elif (num >= 18 and gender=='female'):\n",
    "        print(\"Eligible for marriage\")\n",
    "    else:  \n",
    "        print(\"not eligible\")\n",
    "elegibility()"
   ]
  },
  {
   "cell_type": "code",
   "execution_count": 86,
   "id": "c782a934",
   "metadata": {},
   "outputs": [],
   "source": [
    "# calculate the percentage of your 10th mark\n"
   ]
  },
  {
   "cell_type": "code",
   "execution_count": 98,
   "id": "afac2355",
   "metadata": {},
   "outputs": [
    {
     "name": "stdout",
     "output_type": "stream",
     "text": [
      "subject1=98\n",
      "subject2=87\n",
      "subject3=95\n",
      "subject4=95\n",
      "subject5=93\n",
      "Total 468\n",
      "Percentage: 93.60000000000001\n"
     ]
    }
   ],
   "source": [
    "def percentage():\n",
    "    subject1=int(input(\"subject1=\"))\n",
    "    subject2=int(input(\"subject2=\"))\n",
    "    subject3=int(input(\"subject3=\"))\n",
    "    subject4=int(input(\"subject4=\"))\n",
    "    subject5=int(input(\"subject5=\"))\n",
    "    \n",
    "    Total=int(subject1+subject2+subject3+subject4+subject5)\n",
    "    Percentage = (Total / 500) * 100\n",
    "    print(\"Total\",Total)\n",
    "    print(\"Percentage:\",Percentage)\n",
    "percentage()\n",
    "    "
   ]
  },
  {
   "cell_type": "code",
   "execution_count": 1,
   "id": "44d67d56",
   "metadata": {},
   "outputs": [],
   "source": [
    "#print area and perimeter of triangle using class and functions"
   ]
  },
  {
   "cell_type": "code",
   "execution_count": 11,
   "id": "cf07e12b",
   "metadata": {},
   "outputs": [
    {
     "name": "stdout",
     "output_type": "stream",
     "text": [
      "Height=32\n",
      "Breadth=34\n",
      "Area formula: (Height*Breadth)/2\n",
      "Area of Triangle: 544.0\n",
      "Height1=2\n",
      "Height2=4\n",
      "Breadth=4\n",
      "Perimeter of Triangle: 10\n"
     ]
    }
   ],
   "source": [
    "def triangle():\n",
    "    Height=int(input(\"Height=\"))\n",
    "    Breadth=int(input(\"Breadth=\"))\n",
    "    print(\"Area formula: (Height*Breadth)/2\")\n",
    "    areat =( Height * Breadth ) / 2\n",
    "    print(\"Area of Triangle:\", areat)\n",
    "    Height1=int(input(\"Height1=\"))\n",
    "    Height2=int(input(\"Height2=\"))\n",
    "    Breadth=int(input(\"Breadth=\"))\n",
    "    Perimeter=Height1+Height2+Breadth\n",
    "    print(\"Perimeter of Triangle:\",Perimeter)\n",
    "triangle()\n",
    "\n"
   ]
  },
  {
   "cell_type": "code",
   "execution_count": null,
   "id": "20d064b0",
   "metadata": {},
   "outputs": [],
   "source": []
  }
 ],
 "metadata": {
  "kernelspec": {
   "display_name": "Python 3 (ipykernel)",
   "language": "python",
   "name": "python3"
  },
  "language_info": {
   "codemirror_mode": {
    "name": "ipython",
    "version": 3
   },
   "file_extension": ".py",
   "mimetype": "text/x-python",
   "name": "python",
   "nbconvert_exporter": "python",
   "pygments_lexer": "ipython3",
   "version": "3.11.5"
  }
 },
 "nbformat": 4,
 "nbformat_minor": 5
}
