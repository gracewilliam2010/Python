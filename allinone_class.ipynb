{
 "cells": [
  {
   "cell_type": "code",
   "execution_count": 70,
   "id": "c03a0afb",
   "metadata": {},
   "outputs": [],
   "source": [
    "\n",
    "from class_assignment import allinone\n"
   ]
  },
  {
   "cell_type": "code",
   "execution_count": 64,
   "id": "b2d150f1",
   "metadata": {},
   "outputs": [
    {
     "name": "stdout",
     "output_type": "stream",
     "text": [
      "Sub-fields in AI are:\n",
      "Machine Learning\n",
      "Neural Networks\n",
      "Vision\n",
      "Robotics\n",
      "Speech Processing\n",
      "Natural Language Processing\n"
     ]
    }
   ],
   "source": [
    "allinone.Subfields()"
   ]
  },
  {
   "cell_type": "code",
   "execution_count": 22,
   "id": "a70bb583",
   "metadata": {},
   "outputs": [
    {
     "name": "stdout",
     "output_type": "stream",
     "text": [
      "Enter a age: 20\n",
      "Enter a Gender: male\n",
      "not eligible\n"
     ]
    }
   ],
   "source": [
    "allinone.elegibility()"
   ]
  },
  {
   "cell_type": "code",
   "execution_count": 46,
   "id": "bae1ac5a",
   "metadata": {},
   "outputs": [
    {
     "name": "stdout",
     "output_type": "stream",
     "text": [
      "subject1=98\n",
      "subject2=87\n",
      "subject3=95\n",
      "subject4=93\n",
      "subject5=95\n",
      "Total 468\n",
      "Percentage: 93.60000000000001\n"
     ]
    }
   ],
   "source": [
    "allinone.percentage()"
   ]
  },
  {
   "cell_type": "code",
   "execution_count": 47,
   "id": "72cf40e6",
   "metadata": {},
   "outputs": [
    {
     "name": "stdout",
     "output_type": "stream",
     "text": [
      "Height=32\n",
      "Breadth=34\n",
      "Area formula: (Height*Breadth)/2\n",
      "Area of Triangle: 544.0\n",
      "Height1=2\n",
      "Height2=4\n",
      "Breadth=4\n",
      "Perimeter of Triangle: 10\n"
     ]
    }
   ],
   "source": [
    "allinone.triangle()"
   ]
  },
  {
   "cell_type": "code",
   "execution_count": null,
   "id": "f7e5011f",
   "metadata": {},
   "outputs": [],
   "source": []
  },
  {
   "cell_type": "code",
   "execution_count": null,
   "id": "10122fa7",
   "metadata": {},
   "outputs": [],
   "source": []
  },
  {
   "cell_type": "code",
   "execution_count": null,
   "id": "d8786814",
   "metadata": {},
   "outputs": [],
   "source": [
    "\n"
   ]
  },
  {
   "cell_type": "code",
   "execution_count": null,
   "id": "dba59b06",
   "metadata": {},
   "outputs": [],
   "source": []
  }
 ],
 "metadata": {
  "kernelspec": {
   "display_name": "Python 3 (ipykernel)",
   "language": "python",
   "name": "python3"
  },
  "language_info": {
   "codemirror_mode": {
    "name": "ipython",
    "version": 3
   },
   "file_extension": ".py",
   "mimetype": "text/x-python",
   "name": "python",
   "nbconvert_exporter": "python",
   "pygments_lexer": "ipython3",
   "version": "3.11.5"
  }
 },
 "nbformat": 4,
 "nbformat_minor": 5
}
