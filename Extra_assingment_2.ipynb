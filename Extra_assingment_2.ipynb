{
 "cells": [
  {
   "cell_type": "code",
   "execution_count": 1,
   "id": "0653cad4",
   "metadata": {},
   "outputs": [],
   "source": [
    "# print 0 to 20 by using range"
   ]
  },
  {
   "cell_type": "code",
   "execution_count": 5,
   "id": "21b6577e",
   "metadata": {},
   "outputs": [
    {
     "name": "stdout",
     "output_type": "stream",
     "text": [
      "0\n",
      "1\n",
      "2\n",
      "3\n",
      "4\n",
      "5\n",
      "6\n",
      "7\n",
      "8\n",
      "9\n",
      "10\n",
      "11\n",
      "12\n",
      "13\n",
      "14\n",
      "15\n",
      "16\n",
      "17\n",
      "18\n",
      "19\n"
     ]
    }
   ],
   "source": [
    "for val in range(0,20):\n",
    "    print(val)"
   ]
  },
  {
   "cell_type": "code",
   "execution_count": 6,
   "id": "19399640",
   "metadata": {},
   "outputs": [],
   "source": [
    "# print range 10 to 20"
   ]
  },
  {
   "cell_type": "code",
   "execution_count": 8,
   "id": "f39df292",
   "metadata": {},
   "outputs": [
    {
     "name": "stdout",
     "output_type": "stream",
     "text": [
      "10 11 12 13 14 15 16 17 18 19 "
     ]
    }
   ],
   "source": [
    "for val in range(10,20):\n",
    "    print(val, end=\" \")"
   ]
  },
  {
   "cell_type": "code",
   "execution_count": 9,
   "id": "ad65cc27",
   "metadata": {},
   "outputs": [],
   "source": [
    "# Print number of items in the list by using 'len'"
   ]
  },
  {
   "cell_type": "code",
   "execution_count": 12,
   "id": "d0f442a5",
   "metadata": {},
   "outputs": [
    {
     "name": "stdout",
     "output_type": "stream",
     "text": [
      "[10, 20, 14, 55, 43, 87, 76]\n",
      "Number of item in the List2: 7\n"
     ]
    }
   ],
   "source": [
    "lists=[10,20,14,55,43,87,76]\n",
    "print(lists)\n",
    "print(\"Number of item in the List2:\",len(lists))"
   ]
  },
  {
   "cell_type": "code",
   "execution_count": 16,
   "id": "798bf5a7",
   "metadata": {},
   "outputs": [
    {
     "name": "stdout",
     "output_type": "stream",
     "text": [
      "Artificial Intelligence\n",
      "A\n",
      "r\n",
      "t\n",
      "i\n",
      "f\n",
      "i\n",
      "c\n",
      "i\n",
      "a\n",
      "l\n",
      " \n",
      "I\n",
      "n\n",
      "t\n",
      "e\n",
      "l\n",
      "l\n",
      "i\n",
      "g\n",
      "e\n",
      "n\n",
      "c\n",
      "e\n"
     ]
    }
   ],
   "source": [
    "lists=\"Artificial Intelligence\"\n",
    "print(lists)\n",
    "for alp in lists:\n",
    "    print(alp)\n",
    "\n"
   ]
  },
  {
   "cell_type": "code",
   "execution_count": 17,
   "id": "4f78a913",
   "metadata": {},
   "outputs": [],
   "source": [
    "###"
   ]
  },
  {
   "cell_type": "code",
   "execution_count": 18,
   "id": "123bb019",
   "metadata": {},
   "outputs": [
    {
     "name": "stdout",
     "output_type": "stream",
     "text": [
      "Your Name-lilly\n",
      "Your Age-40\n",
      "Your Profession-test engineer\n",
      "lilly\n",
      "40\n",
      "test engineer\n"
     ]
    }
   ],
   "source": [
    "name=input(\"Your Name-\")\n",
    "age=int(input(\"Your Age-\"))\n",
    "job=input(\"Your Profession-\")\n",
    "print(name)\n",
    "print(age)\n",
    "print(job)"
   ]
  },
  {
   "cell_type": "code",
   "execution_count": 19,
   "id": "cfb0dd42",
   "metadata": {},
   "outputs": [],
   "source": [
    "# Print yhis mixered datatype using Tuples"
   ]
  },
  {
   "cell_type": "code",
   "execution_count": 25,
   "id": "2fd1335c",
   "metadata": {},
   "outputs": [
    {
     "name": "stdout",
     "output_type": "stream",
     "text": [
      "Value of list\n",
      "(1, 'Welcome', 2, 'Hope')\n"
     ]
    }
   ],
   "source": [
    "#creating tuples\n",
    "lists=(1, 'Welcome', 2, 'Hope')\n",
    "print(\"Value of list\")\n",
    "print(lists)"
   ]
  },
  {
   "cell_type": "code",
   "execution_count": 24,
   "id": "fde275fe",
   "metadata": {},
   "outputs": [
    {
     "name": "stdout",
     "output_type": "stream",
     "text": [
      "Tuple using List: \n",
      "((0, 1, 2, 3), ('python', 'HOPE'))\n"
     ]
    }
   ],
   "source": [
    "#tuples\n",
    "Tuple1 = (0, 1, 2, 3)\n",
    "Tuple2=('python', 'HOPE')\n",
    "print(\"Tuple using List: \")\n",
    "print((Tuple1,Tuple2))"
   ]
  },
  {
   "cell_type": "code",
   "execution_count": 37,
   "id": "e37fbd98",
   "metadata": {},
   "outputs": [
    {
     "name": "stdout",
     "output_type": "stream",
     "text": [
      "19 is odd number\n",
      "25 is odd number\n",
      "1 is odd number\n"
     ]
    }
   ],
   "source": [
    " # print Odd Numbers in the list\n",
    "    \n",
    "num=[20,10,16,19,25,1,276,188]\n",
    "for i in num:\n",
    "    if (i%2==1):\n",
    "        print(i,\"is odd number\")\n",
    "    "
   ]
  },
  {
   "cell_type": "code",
   "execution_count": 40,
   "id": "ac25fe87",
   "metadata": {},
   "outputs": [
    {
     "name": "stdout",
     "output_type": "stream",
     "text": [
      "20 is Even Number\n",
      "10 is Even Number\n",
      "16 is Even Number\n",
      "276 is Even Number\n",
      "188 is Even Number\n"
     ]
    }
   ],
   "source": [
    "# print Even numbers in the list\n",
    "num=[20,10,16,19,25,1,276,188]\n",
    "for i in num:\n",
    "    if (i%2==0):\n",
    "        print(i,\"is Even Number\")\n",
    "    "
   ]
  },
  {
   "cell_type": "code",
   "execution_count": null,
   "id": "8485fcee",
   "metadata": {},
   "outputs": [],
   "source": []
  }
 ],
 "metadata": {
  "kernelspec": {
   "display_name": "Python 3 (ipykernel)",
   "language": "python",
   "name": "python3"
  },
  "language_info": {
   "codemirror_mode": {
    "name": "ipython",
    "version": 3
   },
   "file_extension": ".py",
   "mimetype": "text/x-python",
   "name": "python",
   "nbconvert_exporter": "python",
   "pygments_lexer": "ipython3",
   "version": "3.11.5"
  }
 },
 "nbformat": 4,
 "nbformat_minor": 5
}
